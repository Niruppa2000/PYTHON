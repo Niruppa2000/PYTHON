{
 "cells": [
  {
   "cell_type": "code",
   "execution_count": 5,
   "id": "46a7b052",
   "metadata": {},
   "outputs": [
    {
     "name": "stdout",
     "output_type": "stream",
     "text": [
      "Number: 1\n",
      "Positive (Deposit)\n"
     ]
    }
   ],
   "source": [
    "# identifying transaction type\n",
    "a = int(input(\"Number: \"))\n",
    "\n",
    "if a > 0:\n",
    "    print(\"Positive (Deposit)\")\n",
    "elif a < 0:\n",
    "    print(\"Negative (Withdrawal)\")\n",
    "else:\n",
    "    print(\"Zero (No Transaction)\")\n"
   ]
  },
  {
   "cell_type": "code",
   "execution_count": 6,
   "id": "cd7125fc",
   "metadata": {},
   "outputs": [
    {
     "name": "stdout",
     "output_type": "stream",
     "text": [
      "Enter a number: 5\n",
      "Sum of digits: 5\n"
     ]
    }
   ],
   "source": [
    "# summing the digits of a number\n",
    "num = int(input(\"Enter a number: \"))\n",
    "total = 0\n",
    "\n",
    "while num > 0:\n",
    "    digit = num % 10\n",
    "    total += digit\n",
    "    num = num // 10\n",
    "\n",
    "print(\"Sum of digits:\", total)\n"
   ]
  },
  {
   "cell_type": "code",
   "execution_count": 7,
   "id": "90e1a302",
   "metadata": {},
   "outputs": [
    {
     "name": "stdout",
     "output_type": "stream",
     "text": [
      "Enter Transaction ID: 123456\n",
      "Reversed Transaction ID: 654321\n"
     ]
    }
   ],
   "source": [
    "# reversing a transaction id\n",
    "num = input(\"Enter Transaction ID: \")   # Step 1 & 2: Read input as string\n",
    "reversed_num = num[::-1]                # Step 3: Reverse the string\n",
    "reversed_num = int(reversed_num)       # Step 4: Convert back to integer\n",
    "print(\"Reversed Transaction ID:\", reversed_num)  # Step 5: Print\n"
   ]
  },
  {
   "cell_type": "code",
   "execution_count": 8,
   "id": "31932453",
   "metadata": {},
   "outputs": [
    {
     "name": "stdout",
     "output_type": "stream",
     "text": [
      "Enter a number: 1\n",
      "Not Prime\n"
     ]
    }
   ],
   "source": [
    "# checking if a number is prime\n",
    "num = int(input(\"Enter a number: \"))\n",
    "\n",
    "if num < 2:\n",
    "    print(\"Not Prime\")\n",
    "else:\n",
    "    for i in range(2, num):\n",
    "        if num % i == 0:\n",
    "            print(\"Not Prime\")\n",
    "            break\n",
    "    else:\n",
    "        print(\"Prime\")\n"
   ]
  },
  {
   "cell_type": "code",
   "execution_count": 16,
   "id": "0c669057",
   "metadata": {},
   "outputs": [
    {
     "name": "stdout",
     "output_type": "stream",
     "text": [
      "Enter a number: 3\n",
      "Factorial is: 6\n"
     ]
    }
   ],
   "source": [
    "# factorial using recursion\n",
    "def fact(n):\n",
    "    if n <= 1:\n",
    "        return 1\n",
    "    return n * fact(n - 1)\n",
    "\n",
    "num = int(input(\"Enter a number: \"))\n",
    "print(\"Factorial is:\", fact(num))\n"
   ]
  },
  {
   "cell_type": "markdown",
   "id": "6611e6ef",
   "metadata": {},
   "source": [
    "#An Armstrong number (also called a narcissistic number) is a number that is equal to the sum of its own digits each raised to the power of the number of digits.\n",
    "\n",
    "🧪 Examples:\n",
    "153 → 3 digits\n",
    "1 \n",
    "3\n",
    " +5 \n",
    "3\n",
    " +3 \n",
    "3\n",
    " =1+125+27=153 → ✅ Armstrong\n",
    " \n",
    "\n"
   ]
  },
  {
   "cell_type": "code",
   "execution_count": 17,
   "id": "0e51b075",
   "metadata": {},
   "outputs": [
    {
     "name": "stdout",
     "output_type": "stream",
     "text": [
      "Enter a number: 5\n",
      "Armstrong Number\n"
     ]
    }
   ],
   "source": [
    "num = int(input(\"Enter a number: \"))       # Step 1: Read input\n",
    "num_str = str(num)                         # Convert to string to loop digits\n",
    "power = len(num_str)                       # Step 2: Count digits\n",
    "total = 0                                  # Step 3: Initialize sum\n",
    "\n",
    "for digit in num_str:                      # Step 4: Loop over digits\n",
    "    total += int(digit) ** power           # Raise to power and add to sum\n",
    "\n",
    "if total == num:                           # Step 5: Compare\n",
    "    print(\"Armstrong Number\")\n",
    "else:\n",
    "    print(\"Not an Armstrong Number\")\n"
   ]
  },
  {
   "cell_type": "code",
   "execution_count": 18,
   "id": "6f8222e0",
   "metadata": {},
   "outputs": [
    {
     "name": "stdout",
     "output_type": "stream",
     "text": [
      "Enter a string: 4\n",
      "4\n"
     ]
    }
   ],
   "source": [
    "# swapping first and last characters of string\n",
    "s = input(\"Enter a string: \")           # Step 1: Read input\n",
    "\n",
    "if len(s) < 2:                         # Step 2: If length less than 2, print as is\n",
    "    print(s)\n",
    "else:\n",
    "    # Step 3: Swap first and last characters\n",
    "    swapped = s[-1] + s[1:-1] + s[0]\n",
    "    print(\"Modified string:\", swapped)  # Step 4: Print result\n"
   ]
  },
  {
   "cell_type": "code",
   "execution_count": 19,
   "id": "bb9121b5",
   "metadata": {},
   "outputs": [
    {
     "name": "stdout",
     "output_type": "stream",
     "text": [
      "Enter a decimal number: 6\n",
      "Binary representation: 110\n"
     ]
    }
   ],
   "source": [
    "# converting decimal to binary\n",
    "num = int(input(\"Enter a decimal number: \"))  # Step 1: Read input\n",
    "binary = \"\"                                   # Step 2: Empty string for binary\n",
    "\n",
    "if num == 0:\n",
    "    binary = \"0\"\n",
    "else:\n",
    "    while num > 0:                            # Step 3: Loop until num > 0\n",
    "        remainder = num % 2                   # Get remainder (0 or 1)\n",
    "        binary += str(remainder)              # Add remainder to binary string\n",
    "        num = num // 2                        # Update num (integer division)\n",
    "\n",
    "binary = binary[::-1]                         # Step 4: Reverse the string\n",
    "print(\"Binary representation:\", binary)     # Step 5: Print result\n"
   ]
  },
  {
   "cell_type": "code",
   "execution_count": 20,
   "id": "ad68e01f",
   "metadata": {},
   "outputs": [
    {
     "name": "stdout",
     "output_type": "stream",
     "text": [
      "Enter a sentence: I Love Programming\n",
      "Longest word: Programming\n"
     ]
    }
   ],
   "source": [
    "#finding longest word in a sentence\n",
    "sentence = input(\"Enter a sentence: \")      # Step 1: Read input\n",
    "words = sentence.split()                    # Step 2: Split into words\n",
    "\n",
    "longest_word = \"\"                           # Step 3: Initialize longest word\n",
    "\n",
    "for word in words:                          # Step 4: Loop through words\n",
    "    if len(word) > len(longest_word):      # Step 5: Compare lengths\n",
    "        longest_word = word                 # Update longest word\n",
    "\n",
    "print(\"Longest word:\", longest_word)       # Step 6: Print result\n"
   ]
  },
  {
   "cell_type": "markdown",
   "id": "5ffdd121",
   "metadata": {},
   "source": [
    "# two string are anagrams\n",
    "An anagram is a word or phrase formed by rearranging the letters of another word or phrase, using all the original letters exactly once.\n",
    "\n",
    "Simple explanation:\n",
    "If you can rearrange the letters of one word to make another word, those two words are anagrams.\n",
    "\n",
    "Example:\n",
    "\n",
    "listen and silent"
   ]
  },
  {
   "cell_type": "code",
   "execution_count": 21,
   "id": "a9c91364",
   "metadata": {},
   "outputs": [
    {
     "name": "stdout",
     "output_type": "stream",
     "text": [
      "Enter first string: listen\n",
      "Enter second string: silent\n",
      "Anagram\n"
     ]
    }
   ],
   "source": [
    "str1 = input(\"Enter first string: \")\n",
    "str2 = input(\"Enter second string: \")\n",
    "\n",
    "# Step 2: Remove spaces and convert to lowercase\n",
    "str1_clean = str1.replace(\" \", \"\").lower()\n",
    "str2_clean = str2.replace(\" \", \"\").lower()\n",
    "\n",
    "# Step 3: Sort the characters\n",
    "sorted_str1 = sorted(str1_clean)\n",
    "sorted_str2 = sorted(str2_clean)\n",
    "\n",
    "# Step 4 & 5: Compare sorted strings\n",
    "if sorted_str1 == sorted_str2:\n",
    "    print(\"Anagram\")\n",
    "else:\n",
    "    print(\"Not an Anagram\")\n"
   ]
  },
  {
   "cell_type": "code",
   "execution_count": null,
   "id": "912dbdc2",
   "metadata": {},
   "outputs": [],
   "source": []
  }
 ],
 "metadata": {
  "kernelspec": {
   "display_name": "Python 3 (ipykernel)",
   "language": "python",
   "name": "python3"
  },
  "language_info": {
   "codemirror_mode": {
    "name": "ipython",
    "version": 3
   },
   "file_extension": ".py",
   "mimetype": "text/x-python",
   "name": "python",
   "nbconvert_exporter": "python",
   "pygments_lexer": "ipython3",
   "version": "3.7.1"
  }
 },
 "nbformat": 4,
 "nbformat_minor": 5
}
