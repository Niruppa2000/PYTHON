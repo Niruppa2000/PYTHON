{
 "cells": [
  {
   "cell_type": "code",
   "execution_count": 1,
   "id": "727246cc",
   "metadata": {},
   "outputs": [
    {
     "name": "stdout",
     "output_type": "stream",
     "text": [
      "Enter a valid integer: 5.6\n",
      "Invalid input. Please enter a whole number.\n",
      "Enter a valid integer: 65\n",
      "Thank you! You entered: 65\n"
     ]
    }
   ],
   "source": [
    "#Prompt Until Valid Integer is Entered\n",
    "\n",
    "while True:\n",
    "    user_input = input(\"Enter a valid integer: \")\n",
    "    \n",
    "    try:\n",
    "        number = int(user_input)   # Try to convert input to integer\n",
    "        print(\"Thank you! You entered:\", number)\n",
    "        break                      # Exit loop if valid\n",
    "    except ValueError:\n",
    "        print(\"Invalid input. Please enter a whole number.\")\n"
   ]
  },
  {
   "cell_type": "code",
   "execution_count": 2,
   "id": "fa1b38d5",
   "metadata": {},
   "outputs": [
    {
     "name": "stdout",
     "output_type": "stream",
     "text": [
      "Most frequently occurring number is: 2\n"
     ]
    }
   ],
   "source": [
    "#Find the Most Frequently Occurring Number in a List\n",
    "\n",
    "from collections import Counter\n",
    "\n",
    "numbers = [4, 2, 7, 4, 2, 4, 9, 2, 2]\n",
    "\n",
    "# Count frequencies of each number\n",
    "count = Counter(numbers)\n",
    "\n",
    "# Find the number with the highest frequency\n",
    "most_frequent = count.most_common(1)[0][0]\n",
    "\n",
    "print(\"Most frequently occurring number is:\", most_frequent)\n"
   ]
  },
  {
   "cell_type": "code",
   "execution_count": 3,
   "id": "28d3449b",
   "metadata": {},
   "outputs": [
    {
     "name": "stdout",
     "output_type": "stream",
     "text": [
      "Anagram\n",
      "Not an Anagram\n"
     ]
    }
   ],
   "source": [
    "#Check if Two Strings Are Anagrams\n",
    "\n",
    "def are_anagrams(str1, str2):\n",
    "    # Remove spaces and convert to lowercase\n",
    "    str1 = str1.replace(\" \", \"\").lower()\n",
    "    str2 = str2.replace(\" \", \"\").lower()\n",
    "\n",
    "    return sorted(str1) == sorted(str2)\n",
    "\n",
    "# Test cases\n",
    "print(\"Anagram\" if are_anagrams(\"listen\", \"silent\") else \"Not an Anagram\")\n",
    "print(\"Anagram\" if are_anagrams(\"hello\", \"world\") else \"Not an Anagram\")\n"
   ]
  },
  {
   "cell_type": "code",
   "execution_count": 1,
   "id": "d8be7eae",
   "metadata": {},
   "outputs": [
    {
     "name": "stdout",
     "output_type": "stream",
     "text": [
      "Enter first word: hello\n",
      "Enter second word: world\n",
      "Not an Anagram\n"
     ]
    }
   ],
   "source": [
    "str1 = input(\"Enter first word: \")\n",
    "str2 = input(\"Enter second word: \")\n",
    "\n",
    "if sorted(str1.lower()) == sorted(str2.lower()):\n",
    "    print(\"Anagram\")\n",
    "else:\n",
    "    print(\"Not an Anagram\")\n"
   ]
  },
  {
   "cell_type": "code",
   "execution_count": 2,
   "id": "29937500",
   "metadata": {},
   "outputs": [
    {
     "name": "stdout",
     "output_type": "stream",
     "text": [
      "Enter a string: niruppa\n",
      "Number of vowels: 3\n"
     ]
    }
   ],
   "source": [
    "# vowels\n",
    "text = input(\"Enter a string: \")\n",
    "\n",
    "vowels = \"aeiouAEIOU\"\n",
    "count = 0\n",
    "\n",
    "for char in text:\n",
    "    if char in vowels:\n",
    "        count += 1\n",
    "\n",
    "print(\"Number of vowels:\", count)\n"
   ]
  },
  {
   "cell_type": "code",
   "execution_count": 3,
   "id": "f176a6e3",
   "metadata": {},
   "outputs": [
    {
     "name": "stdout",
     "output_type": "stream",
     "text": [
      "Enter a sentence: i an niruppa\n",
      "Reversed sentence: niruppa an i\n"
     ]
    }
   ],
   "source": [
    "# reverse the sentence\n",
    "sentence = input(\"Enter a sentence: \")\n",
    "\n",
    "# Step 1: Split the sentence into words\n",
    "words = sentence.split()\n",
    "\n",
    "# Step 2: Reverse the list of words\n",
    "reversed_words = words[::-1]\n",
    "\n",
    "# Step 3: Join them back into a string\n",
    "reversed_sentence = ' '.join(reversed_words)\n",
    "\n",
    "print(\"Reversed sentence:\", reversed_sentence)\n"
   ]
  },
  {
   "cell_type": "code",
   "execution_count": 4,
   "id": "474100f4",
   "metadata": {},
   "outputs": [
    {
     "name": "stdout",
     "output_type": "stream",
     "text": [
      "Missing number is: 3\n"
     ]
    }
   ],
   "source": [
    "def find_missing_number(numbers):\n",
    "    n = len(numbers) + 1  # Because one number is missing\n",
    "    expected_sum = n * (n + 1) // 2\n",
    "    actual_sum = sum(numbers)\n",
    "    return expected_sum - actual_sum\n",
    "\n",
    "# Example\n",
    "nums = [1, 2, 4, 5]\n",
    "print(\"Missing number is:\", find_missing_number(nums))\n"
   ]
  },
  {
   "cell_type": "code",
   "execution_count": 5,
   "id": "aad46d5a",
   "metadata": {},
   "outputs": [
    {
     "name": "stdout",
     "output_type": "stream",
     "text": [
      "Enter amount to withdraw: 500\n",
      "Withdrawal successful!\n",
      "Remaining balance: 500\n"
     ]
    }
   ],
   "source": [
    "balance = 1000\n",
    "\n",
    "amount = int(input(\"Enter amount to withdraw: \"))\n",
    "\n",
    "if amount <= balance:\n",
    "    balance = balance - amount\n",
    "    print(\"Withdrawal successful!\")\n",
    "    print(\"Remaining balance:\", balance)\n",
    "else:\n",
    "    print(\"Not enough balance!\")\n"
   ]
  },
  {
   "cell_type": "code",
   "execution_count": 6,
   "id": "7b295472",
   "metadata": {},
   "outputs": [
    {
     "name": "stdout",
     "output_type": "stream",
     "text": [
      "Duplicates found!\n"
     ]
    }
   ],
   "source": [
    "# duplicate values\n",
    "data = [1, 2, 3, 4, 2]\n",
    "\n",
    "if len(data) != len(set(data)):# set data removes duplicates automatically\n",
    "    print(\"Duplicates found!\")\n",
    "else:\n",
    "    print(\"No duplicates.\")\n"
   ]
  },
  {
   "cell_type": "code",
   "execution_count": 7,
   "id": "73b5be62",
   "metadata": {},
   "outputs": [
    {
     "name": "stdout",
     "output_type": "stream",
     "text": [
      "Enter a number: 567\n",
      "Sum of digits: 18\n"
     ]
    }
   ],
   "source": [
    "# sum of digits\n",
    "num = input(\"Enter a number: \")\n",
    "total = sum(int(digit) for digit in num)\n",
    "print(\"Sum of digits:\", total)\n"
   ]
  },
  {
   "cell_type": "code",
   "execution_count": 8,
   "id": "5f6e9885",
   "metadata": {},
   "outputs": [
    {
     "name": "stdout",
     "output_type": "stream",
     "text": [
      "Enter a sentence: niruppa\n",
      "This is NOT a pangram.\n"
     ]
    }
   ],
   "source": [
    "# pangram\n",
    "sentence = input(\"Enter a sentence: \").lower()\n",
    "\n",
    "alphabet = \"abcdefghijklmnopqrstuvwxyz\"\n",
    "is_pangram = True\n",
    "\n",
    "for letter in alphabet:\n",
    "    if letter not in sentence:\n",
    "        is_pangram = False\n",
    "        break\n",
    "\n",
    "if is_pangram:\n",
    "    print(\"This is a pangram!\")\n",
    "else:\n",
    "    print(\"This is NOT a pangram.\")\n"
   ]
  },
  {
   "cell_type": "code",
   "execution_count": 9,
   "id": "96c33037",
   "metadata": {},
   "outputs": [
    {
     "name": "stdout",
     "output_type": "stream",
     "text": [
      "how are you\n",
      "Not a Pangram\n"
     ]
    }
   ],
   "source": [
    "print(\"Pangram\" if set(filter(str.isalpha, input().lower())) >= set(\"abcdefghijklmnopqrstuvwxyz\") else \"Not a Pangram\")\n"
   ]
  },
  {
   "cell_type": "code",
   "execution_count": null,
   "id": "6a401932",
   "metadata": {},
   "outputs": [],
   "source": []
  }
 ],
 "metadata": {
  "kernelspec": {
   "display_name": "Python 3 (ipykernel)",
   "language": "python",
   "name": "python3"
  },
  "language_info": {
   "codemirror_mode": {
    "name": "ipython",
    "version": 3
   },
   "file_extension": ".py",
   "mimetype": "text/x-python",
   "name": "python",
   "nbconvert_exporter": "python",
   "pygments_lexer": "ipython3",
   "version": "3.7.1"
  }
 },
 "nbformat": 4,
 "nbformat_minor": 5
}
