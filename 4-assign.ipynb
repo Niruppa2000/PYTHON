{
 "cells": [
  {
   "cell_type": "code",
   "execution_count": 7,
   "id": "5330581c-3dc2-449d-9677-c3f4e9526dfa",
   "metadata": {},
   "outputs": [
    {
     "name": "stdin",
     "output_type": "stream",
     "text": [
      "enter the number : 10\n"
     ]
    }
   ],
   "source": [
    "i=int(input(\"enter the number :\"))"
   ]
  },
  {
   "cell_type": "code",
   "execution_count": 9,
   "id": "a4e75e0f-3955-4eff-b4ef-2d60668862b1",
   "metadata": {},
   "outputs": [
    {
     "name": "stdout",
     "output_type": "stream",
     "text": [
      "correct\n"
     ]
    }
   ],
   "source": [
    "if(i==10):\n",
    "    print('correct')"
   ]
  },
  {
   "cell_type": "code",
   "execution_count": 11,
   "id": "187d3efa-7ded-4d38-aade-08f8b450858f",
   "metadata": {},
   "outputs": [
    {
     "name": "stdin",
     "output_type": "stream",
     "text": [
      "Enter the password : HOPE123\n"
     ]
    }
   ],
   "source": [
    "pwd=input(\"Enter the password :\")"
   ]
  },
  {
   "cell_type": "code",
   "execution_count": null,
   "id": "0ff7d035-705d-47dc-b5f7-d23e624e9048",
   "metadata": {},
   "outputs": [],
   "source": [
    "#if else"
   ]
  },
  {
   "cell_type": "code",
   "execution_count": 17,
   "id": "b8027cb9-4e1f-44ad-b1ed-a10d6d4a1126",
   "metadata": {},
   "outputs": [
    {
     "name": "stdout",
     "output_type": "stream",
     "text": [
      "YOUR PASSWORD IS CORRECT\n"
     ]
    }
   ],
   "source": [
    "if(pwd):\n",
    "    print(\"YOUR PASSWORD IS CORRECT\")\n",
    "else:\n",
    "    print(\"YOUR PASSWORD IS INCORRECT\")"
   ]
  },
  {
   "cell_type": "code",
   "execution_count": null,
   "id": "d6f243b7-89f5-424f-b974-ee9bfbc21418",
   "metadata": {},
   "outputs": [],
   "source": [
    "#if else"
   ]
  },
  {
   "cell_type": "code",
   "execution_count": 19,
   "id": "bb67624f-99e0-491c-b62b-91aaa84306bd",
   "metadata": {},
   "outputs": [
    {
     "name": "stdin",
     "output_type": "stream",
     "text": [
      "Enter the age : 20\n"
     ]
    }
   ],
   "source": [
    "age=int(input(\"Enter the age :\"))"
   ]
  },
  {
   "cell_type": "code",
   "execution_count": 25,
   "id": "4d8e571d-14ce-43c5-9b64-53456b3a268f",
   "metadata": {},
   "outputs": [
    {
     "name": "stdout",
     "output_type": "stream",
     "text": [
      "adult\n"
     ]
    }
   ],
   "source": [
    "if (age<18):\n",
    "    print(\"child\")\n",
    "elif(age<35):\n",
    "    print(\"adult\")\n",
    "elif(age<30):\n",
    "    print(\"citizen\")\n",
    "else:\n",
    "    print(\"senior citizen\")"
   ]
  },
  {
   "cell_type": "code",
   "execution_count": null,
   "id": "3e292c7b-f161-4630-bc5b-fc9974cbcfe7",
   "metadata": {},
   "outputs": [],
   "source": [
    "#positive or negative"
   ]
  },
  {
   "cell_type": "code",
   "execution_count": 27,
   "id": "654f585d-4086-449d-9dcb-fc1432af4d4d",
   "metadata": {},
   "outputs": [
    {
     "name": "stdin",
     "output_type": "stream",
     "text": [
      "ENTER THE NUMBER : 1\n"
     ]
    }
   ],
   "source": [
    "num=int(input(\"ENTER THE NUMBER :\"))"
   ]
  },
  {
   "cell_type": "code",
   "execution_count": 29,
   "id": "2b398467-c08e-471e-9efa-b401aa34c27b",
   "metadata": {},
   "outputs": [
    {
     "name": "stdout",
     "output_type": "stream",
     "text": [
      "positive\n"
     ]
    }
   ],
   "source": [
    "if(num):\n",
    "    print(\"positive\")\n",
    "else:\n",
    "    print(\"negative\")"
   ]
  },
  {
   "cell_type": "code",
   "execution_count": 33,
   "id": "fe19fc7e-c2cd-45d2-8b8c-b3c57370daec",
   "metadata": {},
   "outputs": [
    {
     "name": "stdin",
     "output_type": "stream",
     "text": [
      "enter the number : 22\n"
     ]
    }
   ],
   "source": [
    "num=int(input(\"enter the number :\"))"
   ]
  },
  {
   "cell_type": "code",
   "execution_count": 49,
   "id": "f51d4908-afd6-4c07-8304-4ec2d4e1c964",
   "metadata": {},
   "outputs": [
    {
     "name": "stdout",
     "output_type": "stream",
     "text": [
      "no is not divisible by 5\n"
     ]
    }
   ],
   "source": [
    "if(num % 5 == 0):\n",
    "    print(\"divisible by 5\")\n",
    "else:\n",
    "    print(\"no is not divisible by 5\")"
   ]
  },
  {
   "cell_type": "code",
   "execution_count": 51,
   "id": "331e8699-66c6-4156-983e-0a706ecaaf4b",
   "metadata": {},
   "outputs": [
    {
     "name": "stdin",
     "output_type": "stream",
     "text": [
      "enter the number : 30\n"
     ]
    }
   ],
   "source": [
    "num=int(input(\"enter the number :\"))"
   ]
  },
  {
   "cell_type": "code",
   "execution_count": 53,
   "id": "22dac1fc-dd5d-4939-a572-31e65ec8b375",
   "metadata": {},
   "outputs": [
    {
     "name": "stdout",
     "output_type": "stream",
     "text": [
      "divisible\n"
     ]
    }
   ],
   "source": [
    "if(num % 5 ==0):\n",
    "    print(\"divisible\")\n",
    "else:\n",
    "    print(\"not divisible\")"
   ]
  },
  {
   "cell_type": "code",
   "execution_count": null,
   "id": "9d747284-8d1b-4bd7-a5a1-f655a2935129",
   "metadata": {},
   "outputs": [],
   "source": []
  }
 ],
 "metadata": {
  "kernelspec": {
   "display_name": "Python [conda env:base] *",
   "language": "python",
   "name": "conda-base-py"
  },
  "language_info": {
   "codemirror_mode": {
    "name": "ipython",
    "version": 3
   },
   "file_extension": ".py",
   "mimetype": "text/x-python",
   "name": "python",
   "nbconvert_exporter": "python",
   "pygments_lexer": "ipython3",
   "version": "3.12.7"
  }
 },
 "nbformat": 4,
 "nbformat_minor": 5
}
