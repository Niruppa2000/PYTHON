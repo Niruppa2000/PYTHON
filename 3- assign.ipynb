{
 "cells": [
  {
   "cell_type": "code",
   "execution_count": 3,
   "id": "0a65d2a6-feb3-41cc-a8ca-bc6f8add05be",
   "metadata": {},
   "outputs": [
    {
     "name": "stdout",
     "output_type": "stream",
     "text": [
      "0\n",
      "1\n",
      "2\n",
      "3\n",
      "4\n",
      "5\n",
      "6\n",
      "7\n",
      "8\n",
      "9\n",
      "10\n",
      "11\n",
      "12\n",
      "13\n",
      "14\n",
      "15\n",
      "16\n",
      "17\n",
      "18\n",
      "19\n"
     ]
    }
   ],
   "source": [
    "for num in range(0,20):\n",
    "     print(num)"
   ]
  },
  {
   "cell_type": "code",
   "execution_count": 25,
   "id": "78c657c6-38b9-47d1-9f42-e50fafe8346c",
   "metadata": {},
   "outputs": [
    {
     "name": "stdout",
     "output_type": "stream",
     "text": [
      "print range 10 , 20\n",
      "10 11 12 13 14 15 16 17 18 19 "
     ]
    }
   ],
   "source": [
    "print(\"print range 10 , 20\")\n",
    "for i in range(10 , 20):\n",
    "    print(i,end=' ')\n",
    "  "
   ]
  },
  {
   "cell_type": "code",
   "execution_count": 27,
   "id": "e1e2ec1b-d17c-48b5-997f-c0711804e144",
   "metadata": {},
   "outputs": [],
   "source": [
    "lists=[10,20,14,55,43,87,76]\n"
   ]
  },
  {
   "cell_type": "code",
   "execution_count": 33,
   "id": "65145c0f-9221-424d-b6b8-1f388ce590f4",
   "metadata": {},
   "outputs": [
    {
     "name": "stdout",
     "output_type": "stream",
     "text": [
      "10 20 14 55 43 87 76 "
     ]
    }
   ],
   "source": [
    "for len in lists:\n",
    "    print(len,end=' ')"
   ]
  },
  {
   "cell_type": "code",
   "execution_count": null,
   "id": "bc137935-e312-4eb9-a6e0-37cd113a9d8e",
   "metadata": {},
   "outputs": [],
   "source": []
  }
 ],
 "metadata": {
  "kernelspec": {
   "display_name": "Python [conda env:base] *",
   "language": "python",
   "name": "conda-base-py"
  },
  "language_info": {
   "codemirror_mode": {
    "name": "ipython",
    "version": 3
   },
   "file_extension": ".py",
   "mimetype": "text/x-python",
   "name": "python",
   "nbconvert_exporter": "python",
   "pygments_lexer": "ipython3",
   "version": "3.12.7"
  }
 },
 "nbformat": 4,
 "nbformat_minor": 5
}
