{
 "cells": [
  {
   "cell_type": "code",
   "execution_count": 1,
   "id": "660a9f4b-775f-41ba-922d-08ea85725668",
   "metadata": {},
   "outputs": [],
   "source": [
    "#no-1"
   ]
  },
  {
   "cell_type": "code",
   "execution_count": 5,
   "id": "674ce3f2-c578-4591-9b07-1d228fb9b739",
   "metadata": {},
   "outputs": [
    {
     "name": "stdin",
     "output_type": "stream",
     "text": [
      "Enter the Age : 19\n"
     ]
    },
    {
     "name": "stdout",
     "output_type": "stream",
     "text": [
      "Eligible to vote\n"
     ]
    }
   ],
   "source": [
    "age=int(input(\"Enter the Age :\"))\n",
    "if(age>=18):\n",
    "    print(\"Eligible to vote\")\n",
    "else:\n",
    "    print(\"Not Eligible\")"
   ]
  },
  {
   "cell_type": "code",
   "execution_count": 7,
   "id": "cc2c4e9d-e48f-449b-8573-ef262066fc85",
   "metadata": {},
   "outputs": [],
   "source": [
    "#no-2-largest value"
   ]
  },
  {
   "cell_type": "code",
   "execution_count": 35,
   "id": "7354678c-9e0a-485b-b7ec-12e8527ace6b",
   "metadata": {},
   "outputs": [
    {
     "name": "stdout",
     "output_type": "stream",
     "text": [
      "80\n"
     ]
    }
   ],
   "source": [
    "lists=[20,40,60,80,10]\n",
    "print(max(lists))"
   ]
  },
  {
   "cell_type": "code",
   "execution_count": null,
   "id": "000627bf-e54f-456a-b16d-7f03c4d664a9",
   "metadata": {},
   "outputs": [],
   "source": [
    "#no-3"
   ]
  },
  {
   "cell_type": "code",
   "execution_count": 51,
   "id": "adf7ed78-e1c4-43c1-a42e-2a6be1a6a754",
   "metadata": {},
   "outputs": [
    {
     "name": "stdin",
     "output_type": "stream",
     "text": [
      "Enter the Salary 80000\n"
     ]
    },
    {
     "name": "stdout",
     "output_type": "stream",
     "text": [
      "Bonus : 88000.0\n"
     ]
    }
   ],
   "source": [
    "sal=int(input(\"Enter the Salary\"))\n",
    "bonus=sal*(10/100)\n",
    "amount=bonus+sal\n",
    "if(sal>50,000):\n",
    "    print(\"Bonus :\",amount)\n",
    "else:\n",
    "    print(\"No Bonus\")"
   ]
  },
  {
   "cell_type": "code",
   "execution_count": 53,
   "id": "5e083bf2-cad4-4ef9-b659-e2d5f6379263",
   "metadata": {},
   "outputs": [],
   "source": [
    "#no-4"
   ]
  },
  {
   "cell_type": "code",
   "execution_count": 57,
   "id": "a8df5621-6a8b-48fc-9b96-251e5860de5f",
   "metadata": {},
   "outputs": [
    {
     "name": "stdin",
     "output_type": "stream",
     "text": [
      "The Number : 10\n"
     ]
    },
    {
     "name": "stdout",
     "output_type": "stream",
     "text": [
      "even\n"
     ]
    }
   ],
   "source": [
    "no=int(input(\"The Number :\"))\n",
    "if(no%2==0):\n",
    "    print(\"even\")\n",
    "else:\n",
    "    print(\"odd\")"
   ]
  },
  {
   "cell_type": "code",
   "execution_count": 59,
   "id": "ba185a85-7925-48ec-b169-bbd8747cb40d",
   "metadata": {},
   "outputs": [],
   "source": [
    "#no-5"
   ]
  },
  {
   "cell_type": "code",
   "execution_count": 65,
   "id": "447b6f77-95e3-4efc-b9da-99e8d0751dd2",
   "metadata": {},
   "outputs": [
    {
     "name": "stdin",
     "output_type": "stream",
     "text": [
      "Word : Hello\n"
     ]
    },
    {
     "name": "stdout",
     "output_type": "stream",
     "text": [
      "olleH\n"
     ]
    }
   ],
   "source": [
    "a=input(\"Word :\")\n",
    "rev=a[::-1]\n",
    "print(rev)"
   ]
  },
  {
   "cell_type": "code",
   "execution_count": 67,
   "id": "b3b305c5-15d6-41d0-809d-0a6579efbfc8",
   "metadata": {},
   "outputs": [],
   "source": [
    "#no-6"
   ]
  },
  {
   "cell_type": "code",
   "execution_count": 69,
   "id": "e4d4ae9d-d704-41e7-9a16-ae78be408bba",
   "metadata": {},
   "outputs": [
    {
     "name": "stdin",
     "output_type": "stream",
     "text": [
      "marks : 34\n"
     ]
    },
    {
     "name": "stdout",
     "output_type": "stream",
     "text": [
      "fail\n"
     ]
    }
   ],
   "source": [
    "mar=int(input(\"marks :\"))\n",
    "if(mar>=40):\n",
    "    print(\"pass\")\n",
    "else:\n",
    "    print(\"fail\")"
   ]
  },
  {
   "cell_type": "code",
   "execution_count": 71,
   "id": "c5488f7f-25fc-4e63-8e84-91872c32f948",
   "metadata": {},
   "outputs": [],
   "source": [
    "#n0-7"
   ]
  },
  {
   "cell_type": "code",
   "execution_count": 94,
   "id": "3c81c2c0-9745-442d-8df1-9200c24963a1",
   "metadata": {},
   "outputs": [
    {
     "name": "stdin",
     "output_type": "stream",
     "text": [
      "Enter Amount : 9000\n"
     ]
    },
    {
     "name": "stdout",
     "output_type": "stream",
     "text": [
      "Total amount: 7200.0\n"
     ]
    }
   ],
   "source": [
    "amt=int(input(\"Enter Amount :\"))\n",
    "Disprice=amt*(20/100)\n",
    "discount=amt-Disprice\n",
    "if(amt>8,541):\n",
    "    print(\"Total amount:\",discount)\n",
    "else:\n",
    "    print(\"No discount\")"
   ]
  },
  {
   "cell_type": "code",
   "execution_count": 96,
   "id": "d07dfc53-9b4b-496a-bf42-e1bc9595631e",
   "metadata": {},
   "outputs": [],
   "source": [
    "#n0-8"
   ]
  },
  {
   "cell_type": "code",
   "execution_count": 102,
   "id": "174f978c-db17-424c-8784-012346fd3e4b",
   "metadata": {},
   "outputs": [
    {
     "name": "stdin",
     "output_type": "stream",
     "text": [
      "Enter the Balance : 500000\n",
      "Withdrawal amount : 50000\n"
     ]
    },
    {
     "name": "stdout",
     "output_type": "stream",
     "text": [
      "process the Withdrawal\n",
      "remaining balance : 450000\n"
     ]
    }
   ],
   "source": [
    "bal=int(input(\"Enter the Balance :\"))\n",
    "wd=int(input(\"Withdrawal amount :\"))\n",
    "rem=bal-wd\n",
    "if(wd<=bal):\n",
    "    print(\"process the Withdrawal\")\n",
    "    print(\"remaining balance :\",rem)\n",
    "else:\n",
    "    print(\"Insufficient funds\")"
   ]
  },
  {
   "cell_type": "code",
   "execution_count": 104,
   "id": "fe0266f6-50e4-46ef-a673-ffccd4eb1aaa",
   "metadata": {},
   "outputs": [],
   "source": [
    "#n0-9"
   ]
  },
  {
   "cell_type": "code",
   "execution_count": 112,
   "id": "0ca964c6-de6b-4585-a204-3c8f9ca266e2",
   "metadata": {},
   "outputs": [
    {
     "name": "stdin",
     "output_type": "stream",
     "text": [
      "Enter the Year : 2008\n"
     ]
    },
    {
     "name": "stdout",
     "output_type": "stream",
     "text": [
      "Leap Year\n"
     ]
    }
   ],
   "source": [
    "year=int(input(\"Enter the Year :\"))\n",
    "if(year % 400 == 0):\n",
    "    print(\"Leap Year\")\n",
    "if(year % 4 == 0):\n",
    "    print(\"Leap Year\")\n",
    "else:\n",
    "    print(\"Non Leap Year\")"
   ]
  },
  {
   "cell_type": "code",
   "execution_count": 114,
   "id": "e5e32675-3d97-4a69-8260-f7dae3f3d21f",
   "metadata": {},
   "outputs": [],
   "source": [
    "#n0-10"
   ]
  },
  {
   "cell_type": "code",
   "execution_count": 129,
   "id": "eac6536c-f594-4e07-844c-564e8ffd9037",
   "metadata": {},
   "outputs": [
    {
     "name": "stdout",
     "output_type": "stream",
     "text": [
      "[2, 4, 6, 8, 10]\n"
     ]
    }
   ],
   "source": [
    "numbers = [1,2,3,4,5,6,7,8,9,10]\n",
    "even_numbers = []\n",
    "for num in numbers:\n",
    "    if num % 2 == 0 :\n",
    "        even_numbers.append(num)\n",
    "print(even_numbers)"
   ]
  },
  {
   "cell_type": "code",
   "execution_count": null,
   "id": "a6bf81f9-d8d6-4c93-a96c-11cb52255716",
   "metadata": {},
   "outputs": [],
   "source": []
  }
 ],
 "metadata": {
  "kernelspec": {
   "display_name": "Python [conda env:base] *",
   "language": "python",
   "name": "conda-base-py"
  },
  "language_info": {
   "codemirror_mode": {
    "name": "ipython",
    "version": 3
   },
   "file_extension": ".py",
   "mimetype": "text/x-python",
   "name": "python",
   "nbconvert_exporter": "python",
   "pygments_lexer": "ipython3",
   "version": "3.12.7"
  }
 },
 "nbformat": 4,
 "nbformat_minor": 5
}
