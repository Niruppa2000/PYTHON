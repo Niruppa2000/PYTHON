{
 "cells": [
  {
   "cell_type": "code",
   "execution_count": 1,
   "id": "a426a6d5-5799-4a39-b465-0f6dc4ee2003",
   "metadata": {},
   "outputs": [
    {
     "name": "stdout",
     "output_type": "stream",
     "text": [
      "HOPE AI\n"
     ]
    }
   ],
   "source": [
    "print('HOPE AI')"
   ]
  },
  {
   "cell_type": "code",
   "execution_count": 11,
   "id": "37fe497b-6b9f-4d2a-828f-cb5e6bb9332c",
   "metadata": {},
   "outputs": [
    {
     "name": "stdin",
     "output_type": "stream",
     "text": [
      "Enter Your Institute Name : Hope Ai\n"
     ]
    }
   ],
   "source": [
    "a=input(\"Enter Your Institute Name :\")"
   ]
  },
  {
   "cell_type": "code",
   "execution_count": 15,
   "id": "6d9188d6-b811-42c0-946e-3240f055fdf7",
   "metadata": {},
   "outputs": [
    {
     "name": "stdin",
     "output_type": "stream",
     "text": [
      "Enter your name : Raj\n"
     ]
    }
   ],
   "source": [
    "nam=input(\"Enter your name :\")"
   ]
  },
  {
   "cell_type": "code",
   "execution_count": 17,
   "id": "fe579e9c-978b-431f-a337-f1fcde26c63c",
   "metadata": {},
   "outputs": [
    {
     "name": "stdin",
     "output_type": "stream",
     "text": [
      "Enter your age : 15\n"
     ]
    }
   ],
   "source": [
    "age=input(\"Enter your age :\")"
   ]
  },
  {
   "cell_type": "code",
   "execution_count": 19,
   "id": "64eba659-74d1-4d26-aa19-c5f7c64564c4",
   "metadata": {},
   "outputs": [
    {
     "name": "stdin",
     "output_type": "stream",
     "text": [
      "Enter your school name : Guru School\n"
     ]
    }
   ],
   "source": [
    "sclnam=input(\"Enter your school name :\")"
   ]
  },
  {
   "cell_type": "code",
   "execution_count": 21,
   "id": "4271222b-4513-472a-98e5-838f5628957e",
   "metadata": {},
   "outputs": [
    {
     "name": "stdin",
     "output_type": "stream",
     "text": [
      "Enter your degree : B.E CSE\n"
     ]
    }
   ],
   "source": [
    "deg=input(\"Enter your degree :\")"
   ]
  },
  {
   "cell_type": "code",
   "execution_count": null,
   "id": "e042bc5a-87d2-4655-a216-0d402d0b0dd8",
   "metadata": {},
   "outputs": [],
   "source": [
    "#ADD"
   ]
  },
  {
   "cell_type": "code",
   "execution_count": 25,
   "id": "ba4e817a-c333-4dc6-9ab3-9369e779f223",
   "metadata": {},
   "outputs": [
    {
     "name": "stdin",
     "output_type": "stream",
     "text": [
      "a= 43\n"
     ]
    }
   ],
   "source": [
    "a=int(input(\"a=\"))"
   ]
  },
  {
   "cell_type": "code",
   "execution_count": 27,
   "id": "04d1a2d6-963d-4d32-9c88-7f8ec91f0824",
   "metadata": {},
   "outputs": [
    {
     "name": "stdin",
     "output_type": "stream",
     "text": [
      "b= 34\n"
     ]
    }
   ],
   "source": [
    "b=int(input(\"b=\"))"
   ]
  },
  {
   "cell_type": "code",
   "execution_count": 29,
   "id": "f71bac7c-6eae-49e5-a3b8-092c1515b6d2",
   "metadata": {},
   "outputs": [
    {
     "name": "stdout",
     "output_type": "stream",
     "text": [
      "77\n"
     ]
    }
   ],
   "source": [
    "add=a+b\n",
    "print(add)"
   ]
  },
  {
   "cell_type": "code",
   "execution_count": null,
   "id": "f8bf915d-612e-4a68-b08f-100e1d91a513",
   "metadata": {},
   "outputs": [],
   "source": [
    "#sub"
   ]
  },
  {
   "cell_type": "code",
   "execution_count": 31,
   "id": "90026e5a-e257-4e44-b548-069066447d22",
   "metadata": {},
   "outputs": [
    {
     "name": "stdin",
     "output_type": "stream",
     "text": [
      "a= 43\n"
     ]
    }
   ],
   "source": [
    "a=int(input(\"a=\"))"
   ]
  },
  {
   "cell_type": "code",
   "execution_count": 35,
   "id": "c039eb2f-cbd6-4841-8a4d-a4c2e8bf8dd7",
   "metadata": {},
   "outputs": [
    {
     "name": "stdin",
     "output_type": "stream",
     "text": [
      "b= 34\n"
     ]
    }
   ],
   "source": [
    "b=int(input(\"b=\"))"
   ]
  },
  {
   "cell_type": "code",
   "execution_count": 37,
   "id": "a36f647e-3acc-4ca1-8672-c04afa64b18e",
   "metadata": {},
   "outputs": [
    {
     "name": "stdout",
     "output_type": "stream",
     "text": [
      "9\n"
     ]
    }
   ],
   "source": [
    "sub=a-b\n",
    "print(sub)"
   ]
  },
  {
   "cell_type": "code",
   "execution_count": null,
   "id": "f8b47c40-e955-4a3b-8361-eed142bd0c67",
   "metadata": {},
   "outputs": [],
   "source": [
    "#mul"
   ]
  },
  {
   "cell_type": "code",
   "execution_count": 39,
   "id": "9d6d66ee-78e1-45e0-a957-d8bceed7064e",
   "metadata": {},
   "outputs": [
    {
     "name": "stdin",
     "output_type": "stream",
     "text": [
      "a= 63\n"
     ]
    }
   ],
   "source": [
    "a=int(input(\"a=\"))"
   ]
  },
  {
   "cell_type": "code",
   "execution_count": 41,
   "id": "7ed623d6-ed04-4776-b048-029576062982",
   "metadata": {},
   "outputs": [
    {
     "name": "stdin",
     "output_type": "stream",
     "text": [
      "b= 97\n"
     ]
    }
   ],
   "source": [
    "b=int(input(\"b=\"))"
   ]
  },
  {
   "cell_type": "code",
   "execution_count": 43,
   "id": "b85c624d-5f0c-445d-82ea-2cae7c52db80",
   "metadata": {},
   "outputs": [
    {
     "name": "stdout",
     "output_type": "stream",
     "text": [
      "6111\n"
     ]
    }
   ],
   "source": [
    "mul=a*b\n",
    "print(mul)"
   ]
  },
  {
   "cell_type": "code",
   "execution_count": null,
   "id": "9149a93b-dd89-44ec-8021-25a34d781266",
   "metadata": {},
   "outputs": [],
   "source": [
    "#div"
   ]
  },
  {
   "cell_type": "code",
   "execution_count": 45,
   "id": "158bdfd3-5283-4804-b06e-52d1aeeb56a5",
   "metadata": {},
   "outputs": [
    {
     "name": "stdin",
     "output_type": "stream",
     "text": [
      "a= 76\n"
     ]
    }
   ],
   "source": [
    "a=int(input(\"a=\"))"
   ]
  },
  {
   "cell_type": "code",
   "execution_count": 47,
   "id": "f4a80e3f-940e-4be7-8064-4fd54d6dfb95",
   "metadata": {},
   "outputs": [
    {
     "name": "stdin",
     "output_type": "stream",
     "text": [
      "b= 31\n"
     ]
    }
   ],
   "source": [
    "b=int(input(\"b=\"))"
   ]
  },
  {
   "cell_type": "code",
   "execution_count": 49,
   "id": "517f5b92-3d02-4dbe-8fde-89e49147c471",
   "metadata": {},
   "outputs": [
    {
     "name": "stdout",
     "output_type": "stream",
     "text": [
      "2.4516129032258065\n"
     ]
    }
   ],
   "source": [
    "div=a/b\n",
    "print(div)"
   ]
  },
  {
   "cell_type": "code",
   "execution_count": 51,
   "id": "75be4c3b-db13-444d-95ed-85cf7c43b7c0",
   "metadata": {},
   "outputs": [
    {
     "name": "stdin",
     "output_type": "stream",
     "text": [
      "a= 76\n"
     ]
    }
   ],
   "source": [
    "a=int(input(\"a=\"))"
   ]
  },
  {
   "cell_type": "code",
   "execution_count": 53,
   "id": "25ea5182-ba8f-41d9-b5f4-b6c47f165577",
   "metadata": {},
   "outputs": [
    {
     "name": "stdin",
     "output_type": "stream",
     "text": [
      "b= 31\n"
     ]
    }
   ],
   "source": [
    "b=int(input(\"b=\"))"
   ]
  },
  {
   "cell_type": "code",
   "execution_count": 55,
   "id": "95d44b6a-a0f6-47cb-a183-9e97fda959ea",
   "metadata": {},
   "outputs": [
    {
     "name": "stdout",
     "output_type": "stream",
     "text": [
      "2\n"
     ]
    }
   ],
   "source": [
    "floordiv=a//b\n",
    "print(floordiv)"
   ]
  },
  {
   "cell_type": "code",
   "execution_count": 57,
   "id": "3345198e-da8f-413a-8e29-8c03643c1179",
   "metadata": {},
   "outputs": [
    {
     "name": "stdin",
     "output_type": "stream",
     "text": [
      "a= 76\n"
     ]
    }
   ],
   "source": [
    "a=int(input(\"a=\"))"
   ]
  },
  {
   "cell_type": "code",
   "execution_count": 59,
   "id": "175a79fb-d130-46bd-ad10-6196cab11f6c",
   "metadata": {},
   "outputs": [
    {
     "name": "stdin",
     "output_type": "stream",
     "text": [
      "b= 31\n"
     ]
    }
   ],
   "source": [
    "b=int(input(\"b=\"))"
   ]
  },
  {
   "cell_type": "code",
   "execution_count": 61,
   "id": "349ccb7d-fe7c-47a9-b78f-1fa68d36cb86",
   "metadata": {},
   "outputs": [
    {
     "name": "stdout",
     "output_type": "stream",
     "text": [
      "14\n"
     ]
    }
   ],
   "source": [
    "modulo=a%b\n",
    "print(modulo)"
   ]
  },
  {
   "cell_type": "code",
   "execution_count": 63,
   "id": "e42e9208-49ba-4a8c-977c-218c4ba48024",
   "metadata": {},
   "outputs": [
    {
     "name": "stdin",
     "output_type": "stream",
     "text": [
      "a= 4\n"
     ]
    }
   ],
   "source": [
    "a=int(input(\"a=\"))"
   ]
  },
  {
   "cell_type": "code",
   "execution_count": 65,
   "id": "da8b7c50-5e50-4e09-83ae-e540f900972b",
   "metadata": {},
   "outputs": [
    {
     "name": "stdin",
     "output_type": "stream",
     "text": [
      "b= 4\n"
     ]
    }
   ],
   "source": [
    "b=int(input(\"b=\"))"
   ]
  },
  {
   "cell_type": "code",
   "execution_count": 83,
   "id": "6f241a19-1bb1-4e21-984d-1fe52811e882",
   "metadata": {},
   "outputs": [
    {
     "name": "stdout",
     "output_type": "stream",
     "text": [
      "256\n"
     ]
    }
   ],
   "source": [
    "power=a**b\n",
    "print(power)"
   ]
  },
  {
   "cell_type": "code",
   "execution_count": null,
   "id": "fc38a6fc-8e6d-4db8-9ff2-85e6412b9acb",
   "metadata": {},
   "outputs": [],
   "source": []
  }
 ],
 "metadata": {
  "kernelspec": {
   "display_name": "Python [conda env:base] *",
   "language": "python",
   "name": "conda-base-py"
  },
  "language_info": {
   "codemirror_mode": {
    "name": "ipython",
    "version": 3
   },
   "file_extension": ".py",
   "mimetype": "text/x-python",
   "name": "python",
   "nbconvert_exporter": "python",
   "pygments_lexer": "ipython3",
   "version": "3.12.7"
  }
 },
 "nbformat": 4,
 "nbformat_minor": 5
}
