{
 "cells": [
  {
   "cell_type": "code",
   "execution_count": 9,
   "id": "f45d9da1-34f4-4119-90f9-e4c02995f8e3",
   "metadata": {},
   "outputs": [],
   "source": [
    "lists=['machine learning', 'neural networks','vision','robotics','speech processing','natural language processing']"
   ]
  },
  {
   "cell_type": "code",
   "execution_count": 17,
   "id": "459f3a15-a86a-4ac3-8340-2e8e25185135",
   "metadata": {},
   "outputs": [
    {
     "name": "stdout",
     "output_type": "stream",
     "text": [
      "subfields in AI are :\n",
      "machine learning\n",
      "neural networks\n",
      "vision\n",
      "robotics\n",
      "speech processing\n",
      "natural language processing\n"
     ]
    }
   ],
   "source": [
    "print(\"subfields in AI are :\")\n",
    "for i in lists:\n",
    "    print (i)\n"
   ]
  },
  {
   "cell_type": "code",
   "execution_count": 61,
   "id": "071b6987-ce0e-4d26-9c01-87e16e136a0a",
   "metadata": {},
   "outputs": [
    {
     "name": "stdout",
     "output_type": "stream",
     "text": [
      "SUBFIELDS IN AI ARE :\n"
     ]
    }
   ],
   "source": [
    "print(\"SUBFIELDS IN AI ARE :\")"
   ]
  },
  {
   "cell_type": "code",
   "execution_count": 103,
   "id": "5a973d8a-369e-4caf-933b-145b55bfc427",
   "metadata": {},
   "outputs": [],
   "source": [
    "lists=['SUBFIELDS IN AI ARE :' , 'machine learning', 'neural networks','vision','robotics','speech processing','natural language processing']"
   ]
  },
  {
   "cell_type": "code",
   "execution_count": 105,
   "id": "5fe2fa0d-85ee-44ef-975c-c627aed2fe54",
   "metadata": {},
   "outputs": [],
   "source": [
    "\n",
    "def SubfieldsInAI():\n",
    "    for i in lists:\n",
    "        print(i)\n",
    "        "
   ]
  },
  {
   "cell_type": "code",
   "execution_count": 107,
   "id": "722060ae-6743-4c64-9831-b6cdb99a237d",
   "metadata": {},
   "outputs": [
    {
     "name": "stdout",
     "output_type": "stream",
     "text": [
      "SUBFIELDS IN AI ARE :\n",
      "machine learning\n",
      "neural networks\n",
      "vision\n",
      "robotics\n",
      "speech processing\n",
      "natural language processing\n"
     ]
    }
   ],
   "source": [
    " SubfieldsInAI()"
   ]
  },
  {
   "cell_type": "code",
   "execution_count": null,
   "id": "5401efa2-437d-46e3-8aef-35e67fa14f20",
   "metadata": {},
   "outputs": [],
   "source": [
    "# ODDEVEN"
   ]
  },
  {
   "cell_type": "code",
   "execution_count": 47,
   "id": "bb7928b2-8a4c-440d-be32-e3888a19e7e3",
   "metadata": {},
   "outputs": [
    {
     "name": "stdin",
     "output_type": "stream",
     "text": [
      "enter the number : 52452\n"
     ]
    }
   ],
   "source": [
    "num=int(input(\"enter the number :\"))\n",
    "    "
   ]
  },
  {
   "cell_type": "code",
   "execution_count": 55,
   "id": "2ad418db-4453-4c0d-a92d-8f2a1c6255b5",
   "metadata": {},
   "outputs": [
    {
     "name": "stdout",
     "output_type": "stream",
     "text": [
      " 52452 is even number\n"
     ]
    }
   ],
   "source": [
    "if(num%2==1):\n",
    "    print(\" 52452 is odd number\")\n",
    "else:\n",
    "    print(\" 52452 is even number\")"
   ]
  },
  {
   "cell_type": "code",
   "execution_count": 57,
   "id": "11e730cd-cdbc-4fd4-b46d-8fdb686c2b68",
   "metadata": {},
   "outputs": [],
   "source": [
    "def oddeven():\n",
    "    if(num%2==1):\n",
    "       print(\"52452 is odd number\")\n",
    "       result=\"52452 isodd number\"\n",
    "    else:\n",
    "       print(\"52452 is even number\")\n",
    "       result=\"52452 is even number\"\n",
    "    return result    "
   ]
  },
  {
   "cell_type": "code",
   "execution_count": 59,
   "id": "e9ceb52a-6daf-431d-b93b-c6ab39b6e5ca",
   "metadata": {},
   "outputs": [
    {
     "name": "stdout",
     "output_type": "stream",
     "text": [
      "52452 is even number\n"
     ]
    },
    {
     "data": {
      "text/plain": [
       "'52452 is even number'"
      ]
     },
     "execution_count": 59,
     "metadata": {},
     "output_type": "execute_result"
    }
   ],
   "source": [
    " oddeven()"
   ]
  },
  {
   "cell_type": "code",
   "execution_count": 119,
   "id": "63c39700-9e95-48a7-87ac-5700ccd654ea",
   "metadata": {},
   "outputs": [
    {
     "name": "stdin",
     "output_type": "stream",
     "text": [
      "your gender : male\n",
      "your age: 20\n"
     ]
    },
    {
     "name": "stdout",
     "output_type": "stream",
     "text": [
      "Not Eligible\n"
     ]
    }
   ],
   "source": [
    "mrg=input(\"your gender :\")\n",
    "age=int(input(\"your age:\"))\n",
    "if(age<20):\n",
    "    print(\"Eligible\")\n",
    "else:\n",
    "    print(\"Not Eligible\")"
   ]
  },
  {
   "cell_type": "code",
   "execution_count": 113,
   "id": "2a3f988a-f4f2-4cd1-88aa-92752a4076b4",
   "metadata": {},
   "outputs": [
    {
     "name": "stdout",
     "output_type": "stream",
     "text": [
      "Not Eligible\n"
     ]
    }
   ],
   "source": [
    "if(age<20):\n",
    "    print(\"Eligible\")\n",
    "else:\n",
    "    print(\"Not Eligible\")"
   ]
  },
  {
   "cell_type": "code",
   "execution_count": 127,
   "id": "7754ee23-0536-4463-bc3c-e6fce44f9a47",
   "metadata": {},
   "outputs": [],
   "source": [
    "def MarriageEligibility():\n",
    " mrg=input(\"your gender :\")\n",
    " age=int(input(\"your age:\"))\n",
    " if(age<20):\n",
    "       print(\"Eligible\")\n",
    "       result=\"eligible\" \n",
    " else:\n",
    "       print(\"Not Eligible\")\n",
    "       result=\"not eligible\"\n",
    " return result"
   ]
  },
  {
   "cell_type": "code",
   "execution_count": 129,
   "id": "80a866e3-4046-4178-8e0c-1e37f047ee9a",
   "metadata": {},
   "outputs": [
    {
     "name": "stdin",
     "output_type": "stream",
     "text": [
      "your gender : male\n",
      "your age: 20\n"
     ]
    },
    {
     "name": "stdout",
     "output_type": "stream",
     "text": [
      "Not Eligible\n"
     ]
    },
    {
     "data": {
      "text/plain": [
       "'not eligible'"
      ]
     },
     "execution_count": 129,
     "metadata": {},
     "output_type": "execute_result"
    }
   ],
   "source": [
    "MarriageEligibility()"
   ]
  },
  {
   "cell_type": "code",
   "execution_count": 185,
   "id": "1d21d0e2-f954-4358-adde-a497b25114bb",
   "metadata": {},
   "outputs": [
    {
     "name": "stdin",
     "output_type": "stream",
     "text": [
      "subject1=  98\n",
      "subject2=  87\n",
      "subject3=  95\n",
      "subject4=  95\n",
      "subject5=  93\n",
      "Total=  468\n"
     ]
    },
    {
     "name": "stdout",
     "output_type": "stream",
     "text": [
      "percentage: 93.60000000000001\n"
     ]
    }
   ],
   "source": [
    "marks=int(input(\"subject1= \"))\n",
    "marks=int(input(\"subject2= \"))\n",
    "marks=int(input(\"subject3= \"))\n",
    "marks=int(input(\"subject4= \"))\n",
    "marks=int(input(\"subject5= \"))\n",
    "marks=int(input(\"Total= \"))\n",
    "percentage=468/500*100\n",
    "print(\"percentage:\",percentage)"
   ]
  },
  {
   "cell_type": "code",
   "execution_count": 187,
   "id": "c88a04e9-0a19-4dbe-a7f8-f9e32216298d",
   "metadata": {},
   "outputs": [],
   "source": [
    "def FindPercent():\n",
    "    marks=int(input(\"subject1= \"))\n",
    "    marks=int(input(\"subject2= \"))\n",
    "    marks=int(input(\"subject3= \"))\n",
    "    marks=int(input(\"subject4= \"))\n",
    "    marks=int(input(\"subject5= \"))\n",
    "    marks=int(input(\"Total= \"))\n",
    "    percentage=468/500*100\n",
    "    print(\"percentage:\",percentage)"
   ]
  },
  {
   "cell_type": "code",
   "execution_count": 189,
   "id": "25575919-47f6-40fe-823d-6f9ea9447a21",
   "metadata": {},
   "outputs": [
    {
     "name": "stdin",
     "output_type": "stream",
     "text": [
      "subject1=  98\n",
      "subject2=  87\n",
      "subject3=  95\n",
      "subject4=  95\n",
      "subject5=  93\n",
      "Total=  468\n"
     ]
    },
    {
     "name": "stdout",
     "output_type": "stream",
     "text": [
      "percentage: 93.60000000000001\n"
     ]
    }
   ],
   "source": [
    " FindPercent()"
   ]
  },
  {
   "cell_type": "code",
   "execution_count": null,
   "id": "7322d672-ad9e-4a13-8af2-22ccadf6a068",
   "metadata": {},
   "outputs": [],
   "source": [
    "#triangle"
   ]
  },
  {
   "cell_type": "code",
   "execution_count": 11,
   "id": "e9b6a791-5a6b-496a-aede-8bf3746d3174",
   "metadata": {},
   "outputs": [
    {
     "name": "stdin",
     "output_type": "stream",
     "text": [
      "height : 34\n",
      "breadth : 32\n",
      "area formula : (height*breadth)/2\n"
     ]
    },
    {
     "name": "stdout",
     "output_type": "stream",
     "text": [
      "area of triangle is: 544.0\n"
     ]
    }
   ],
   "source": [
    "hgt=input(\"height :\")\n",
    "brdh=input(\"breadth :\")\n",
    "a=input(\"area formula :\")\n",
    "area =34*32/2\n",
    "print(\"area of triangle is:\",area)"
   ]
  },
  {
   "cell_type": "code",
   "execution_count": 13,
   "id": "67d38f95-eaf4-4623-90b5-c331607ba3d0",
   "metadata": {},
   "outputs": [
    {
     "name": "stdin",
     "output_type": "stream",
     "text": [
      "height1 : 2 \n",
      "height2 : 4\n",
      "breadth : 4\n",
      "perimeter formula : height1+height2+breadth\n"
     ]
    },
    {
     "name": "stdout",
     "output_type": "stream",
     "text": [
      "perimeter of triangle : 10\n"
     ]
    }
   ],
   "source": [
    "hgt=input(\"height1 :\")\n",
    "hgt=input(\"height2 :\")\n",
    "brdh=input(\"breadth :\")\n",
    "a=input(\"perimeter formula :\")\n",
    "perimeter=2+4+4\n",
    "print(\"perimeter of triangle :\",perimeter)"
   ]
  },
  {
   "cell_type": "code",
   "execution_count": 19,
   "id": "8876e1ff-da14-4d53-9710-a040099b35fd",
   "metadata": {},
   "outputs": [],
   "source": [
    "def Triangle():\n",
    "    hgt=input(\"height :\")\n",
    "    brdh=input(\"breadth :\")\n",
    "    a=input(\"area formula :\")\n",
    "    area =34*32/2\n",
    "    print(\"area of triangle is:\",area)\n",
    "    hgt=input(\"height1 :\")\n",
    "    hgt=input(\"height2 :\")\n",
    "    brdh=input(\"breadth :\")\n",
    "    a=input(\"perimeter formula :\")\n",
    "    perimeter=2+4+4\n",
    "    print(\"perimeter of triangle :\",perimeter)\n"
   ]
  },
  {
   "cell_type": "code",
   "execution_count": 21,
   "id": "e6a12896-f8e3-457a-8b88-6ff1a13c615e",
   "metadata": {},
   "outputs": [
    {
     "name": "stdin",
     "output_type": "stream",
     "text": [
      "height : 34\n",
      "breadth : 32\n",
      "area formula : (height*breadth)/2\n"
     ]
    },
    {
     "name": "stdout",
     "output_type": "stream",
     "text": [
      "area of triangle is: 544.0\n"
     ]
    },
    {
     "name": "stdin",
     "output_type": "stream",
     "text": [
      "height1 : 2\n",
      "height2 : 4\n",
      "breadth : 4\n",
      "perimeter formula : height1+height2+breadth\n"
     ]
    },
    {
     "name": "stdout",
     "output_type": "stream",
     "text": [
      "perimeter of triangle : 10\n"
     ]
    }
   ],
   "source": [
    "Triangle()"
   ]
  },
  {
   "cell_type": "code",
   "execution_count": null,
   "id": "a058ff8a-fb01-418f-890e-2f22dbb3dabf",
   "metadata": {},
   "outputs": [],
   "source": []
  }
 ],
 "metadata": {
  "kernelspec": {
   "display_name": "Python [conda env:base] *",
   "language": "python",
   "name": "conda-base-py"
  },
  "language_info": {
   "codemirror_mode": {
    "name": "ipython",
    "version": 3
   },
   "file_extension": ".py",
   "mimetype": "text/x-python",
   "name": "python",
   "nbconvert_exporter": "python",
   "pygments_lexer": "ipython3",
   "version": "3.12.7"
  }
 },
 "nbformat": 4,
 "nbformat_minor": 5
}
