{
 "cells": [
  {
   "cell_type": "code",
   "execution_count": 1,
   "id": "87bc6307-69ba-4929-8986-2e0ecbbd524c",
   "metadata": {},
   "outputs": [
    {
     "name": "stdout",
     "output_type": "stream",
     "text": [
      "Welcome to Assignment-1\n"
     ]
    }
   ],
   "source": [
    "print(\"Welcome to Assignment-1\")"
   ]
  },
  {
   "cell_type": "code",
   "execution_count": 5,
   "id": "4be92bbf-17d7-42b6-a6b6-05a2a9501e79",
   "metadata": {},
   "outputs": [
    {
     "name": "stdin",
     "output_type": "stream",
     "text": [
      "Ënter the number  10\n"
     ]
    }
   ],
   "source": [
    "num1=int(input(\"Ënter the number\"))"
   ]
  },
  {
   "cell_type": "code",
   "execution_count": 7,
   "id": "a17b4edc-00b3-4aad-8642-4d206c254944",
   "metadata": {},
   "outputs": [
    {
     "name": "stdin",
     "output_type": "stream",
     "text": [
      "Enter the number  30\n"
     ]
    }
   ],
   "source": [
    "num2=int(input(\"Enter the number\"))"
   ]
  },
  {
   "cell_type": "code",
   "execution_count": 9,
   "id": "19d17fd6-64ee-4f42-b070-240b0e844191",
   "metadata": {},
   "outputs": [
    {
     "name": "stdout",
     "output_type": "stream",
     "text": [
      "40\n"
     ]
    }
   ],
   "source": [
    "add=num1+num2\n",
    "print(add)"
   ]
  },
  {
   "cell_type": "code",
   "execution_count": 11,
   "id": "85331180-8d31-42aa-86f1-0795b54ffab0",
   "metadata": {},
   "outputs": [
    {
     "name": "stdin",
     "output_type": "stream",
     "text": [
      "Enter the BMI INDEX  34\n"
     ]
    }
   ],
   "source": [
    "bmi=int(input(\"Enter the BMI INDEX\"))"
   ]
  },
  {
   "cell_type": "code",
   "execution_count": 21,
   "id": "df916b02-8127-48b9-ae27-27a1b27f6faf",
   "metadata": {},
   "outputs": [
    {
     "name": "stdout",
     "output_type": "stream",
     "text": [
      "overweight\n"
     ]
    }
   ],
   "source": [
    "if(bmi<30):\n",
    "    print(\"weight\")\n",
    "else:\n",
    "    print(\"overweight\")"
   ]
  },
  {
   "cell_type": "code",
   "execution_count": null,
   "id": "47d7d68f-64c0-4180-af8a-27e7441817e3",
   "metadata": {},
   "outputs": [],
   "source": []
  }
 ],
 "metadata": {
  "kernelspec": {
   "display_name": "Python [conda env:base] *",
   "language": "python",
   "name": "conda-base-py"
  },
  "language_info": {
   "codemirror_mode": {
    "name": "ipython",
    "version": 3
   },
   "file_extension": ".py",
   "mimetype": "text/x-python",
   "name": "python",
   "nbconvert_exporter": "python",
   "pygments_lexer": "ipython3",
   "version": "3.12.7"
  }
 },
 "nbformat": 4,
 "nbformat_minor": 5
}
