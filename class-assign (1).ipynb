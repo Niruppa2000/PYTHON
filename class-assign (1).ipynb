{
 "cells": [
  {
   "cell_type": "code",
   "execution_count": 1,
   "id": "c9e949b5-550f-4b92-86ea-b7df4420c9d9",
   "metadata": {},
   "outputs": [],
   "source": [
    "class multiplefunctions():\n",
    " def FindPercent():\n",
    "    marks=int(input(\"subject1= \"))\n",
    "    marks=int(input(\"subject2= \"))\n",
    "    marks=int(input(\"subject3= \"))\n",
    "    marks=int(input(\"subject4= \"))\n",
    "    marks=int(input(\"subject5= \"))\n",
    "    marks=int(input(\"Total= \"))\n",
    "    percentage=468/500*100\n",
    "    print(\"percentage:\",percentage)\n",
    " def Triangle():\n",
    "      hgt=input(\"height :\")\n",
    "      brdh=input(\"breadth :\")\n",
    "      a=input(\"area formula :\")\n",
    "      area =34*32/2\n",
    "      print(\"area of triangle is:\",area)\n",
    "      hgt=input(\"height1 :\")\n",
    "      hgt=input(\"height2 :\")\n",
    "      brdh=input(\"breadth :\")\n",
    "      a=input(\"perimeter formula :\")\n",
    "      perimeter=2+4+4\n",
    "      print(\"perimeter of triangle :\",perimeter)\n",
    " def MarriageEligibility():\n",
    "  mrg=input(\"your gender :\")\n",
    "  age=int(input(\"your age:\"))\n",
    "  if(age<20):\n",
    "       print(\"Eligible\")\n",
    "       result=\"eligible\" \n",
    "  else:\n",
    "       print(\"Not Eligible\")\n",
    "       result=\"not eligible\"\n",
    "  return result\n",
    " def oddeven():\n",
    "    num=int(input(\"enter the number :\"))\n",
    "    if(num%2==1):\n",
    "       print(\"52452 is odd number\")\n",
    "       result=\"52452 isodd number\"\n",
    "    else:\n",
    "       print(\"52452 is even number\")\n",
    "       result=\"52452 is even number\"\n",
    "    return result    \n",
    " def SubfieldsInAI():\n",
    "     lists=['SUBFIELDS IN AI ARE :' , 'machine learning', 'neural networks','vision','robotics','speech processing','natural language processing']\n",
    "     for i in lists:\n",
    "        print(i)"
   ]
  },
  {
   "cell_type": "code",
   "execution_count": 3,
   "id": "33ab9f87-4c3c-4c13-8f2a-4ec439b4af24",
   "metadata": {},
   "outputs": [
    {
     "name": "stdin",
     "output_type": "stream",
     "text": [
      "enter the number : 52452\n"
     ]
    },
    {
     "name": "stdout",
     "output_type": "stream",
     "text": [
      "52452 is even number\n"
     ]
    },
    {
     "data": {
      "text/plain": [
       "'52452 is even number'"
      ]
     },
     "execution_count": 3,
     "metadata": {},
     "output_type": "execute_result"
    }
   ],
   "source": [
    " multiplefunctions.oddeven()"
   ]
  },
  {
   "cell_type": "code",
   "execution_count": 5,
   "id": "937aff94-701f-43ec-9558-3b0120587038",
   "metadata": {},
   "outputs": [
    {
     "name": "stdin",
     "output_type": "stream",
     "text": [
      "your gender : male\n",
      "your age: 20\n"
     ]
    },
    {
     "name": "stdout",
     "output_type": "stream",
     "text": [
      "Not Eligible\n"
     ]
    },
    {
     "data": {
      "text/plain": [
       "'not eligible'"
      ]
     },
     "execution_count": 5,
     "metadata": {},
     "output_type": "execute_result"
    }
   ],
   "source": [
    "multiplefunctions.MarriageEligibility()"
   ]
  },
  {
   "cell_type": "code",
   "execution_count": 7,
   "id": "0cf3f642-66ae-40e0-b5ca-6b8764ff668e",
   "metadata": {},
   "outputs": [
    {
     "name": "stdout",
     "output_type": "stream",
     "text": [
      "SUBFIELDS IN AI ARE :\n",
      "machine learning\n",
      "neural networks\n",
      "vision\n",
      "robotics\n",
      "speech processing\n",
      "natural language processing\n"
     ]
    }
   ],
   "source": [
    "multiplefunctions.SubfieldsInAI()"
   ]
  },
  {
   "cell_type": "code",
   "execution_count": null,
   "id": "2febc6bb-2208-4145-a128-b750a262ddd0",
   "metadata": {},
   "outputs": [],
   "source": []
  }
 ],
 "metadata": {
  "kernelspec": {
   "display_name": "Python [conda env:base] *",
   "language": "python",
   "name": "conda-base-py"
  },
  "language_info": {
   "codemirror_mode": {
    "name": "ipython",
    "version": 3
   },
   "file_extension": ".py",
   "mimetype": "text/x-python",
   "name": "python",
   "nbconvert_exporter": "python",
   "pygments_lexer": "ipython3",
   "version": "3.12.7"
  }
 },
 "nbformat": 4,
 "nbformat_minor": 5
}
